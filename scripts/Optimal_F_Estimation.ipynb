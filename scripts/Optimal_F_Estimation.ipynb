{
 "cells": [
  {
   "cell_type": "markdown",
   "metadata": {},
   "source": [
    "## Computing Fundamental Matrix in an optimized way\n",
    "Given two images of the same scene they are related by the epipolar geometry, which algebraic representation is the Fundamental matrix $F $. For any pair of matching points $\\boldsymbol{\\vec{x}}$ and $\\boldsymbol{\\vec{x}'}$ the fundamental matrix is defined by the following equation:\n",
    "$$\n",
    "\\begin{aligned}\n",
    "    \\boldsymbol{\\vec{x}}F\\boldsymbol{\\vec{x}'} = 0\n",
    "\\end{aligned}\n",
    "$$\n",
    "\n",
    "Given sufficiently many point matches (at least 7), this equation can be used to compute the unknown matrix F. There are several ways to solve this problem, some of them listed below:\n",
    "- Normalized 8-point algorithm\n",
    "- Algebraic minimization algorithm\n",
    "- Geometric minimization algorithm\n",
    "\n",
    "Here, we'll see how to implement the third one using Python. \n",
    "\n",
    "### Geometric minimization algorithm\n"
   ]
  },
  {
   "cell_type": "code",
   "execution_count": 8,
   "metadata": {
    "collapsed": true
   },
   "outputs": [],
   "source": [
    "import numpy as np\n",
    "import matplotlib.pyplot as plt\n",
    "from mpl_toolkits.mplot3d import axes3d\n",
    "from VisualOdometry import VisualOdometry"
   ]
  },
  {
   "cell_type": "code",
   "execution_count": 9,
   "metadata": {
    "collapsed": true
   },
   "outputs": [],
   "source": [
    "vo = VisualOdometry()"
   ]
  },
  {
   "cell_type": "code",
   "execution_count": null,
   "metadata": {
    "collapsed": true
   },
   "outputs": [],
   "source": []
  }
 ],
 "metadata": {
  "kernelspec": {
   "display_name": "Python 2",
   "language": "python",
   "name": "python2"
  },
  "language_info": {
   "codemirror_mode": {
    "name": "ipython",
    "version": 2
   },
   "file_extension": ".py",
   "mimetype": "text/x-python",
   "name": "python",
   "nbconvert_exporter": "python",
   "pygments_lexer": "ipython2",
   "version": "2.7.6"
  }
 },
 "nbformat": 4,
 "nbformat_minor": 0
}
